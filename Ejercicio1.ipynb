{
 "cells": [
  {
   "cell_type": "code",
   "execution_count": 3,
   "id": "1832c032",
   "metadata": {
    "scrolled": false
   },
   "outputs": [
    {
     "data": {
      "text/html": [
       "<style type=\"text/css\">\n",
       "</style>\n",
       "<table id=\"T_467c2\">\n",
       "  <caption>*******  Five stores that have the highest average number of sales on holidays     *******</caption>\n",
       "  <thead>\n",
       "    <tr>\n",
       "      <th class=\"blank level0\" >&nbsp;</th>\n",
       "      <th id=\"T_467c2_level0_col0\" class=\"col_heading level0 col0\" >Store_id</th>\n",
       "      <th id=\"T_467c2_level0_col1\" class=\"col_heading level0 col1\" >Store_type</th>\n",
       "      <th id=\"T_467c2_level0_col2\" class=\"col_heading level0 col2\" >Zone_name</th>\n",
       "      <th id=\"T_467c2_level0_col3\" class=\"col_heading level0 col3\" >Latitude</th>\n",
       "      <th id=\"T_467c2_level0_col4\" class=\"col_heading level0 col4\" >Longitude</th>\n",
       "      <th id=\"T_467c2_level0_col5\" class=\"col_heading level0 col5\" >Average</th>\n",
       "    </tr>\n",
       "  </thead>\n",
       "  <tbody>\n",
       "    <tr>\n",
       "      <th id=\"T_467c2_level0_row0\" class=\"row_heading level0 row0\" >2</th>\n",
       "      <td id=\"T_467c2_row0_col0\" class=\"data row0 col0\" >89e7328af22efe74</td>\n",
       "      <td id=\"T_467c2_row0_col1\" class=\"data row0 col1\" >HOT & COLD</td>\n",
       "      <td id=\"T_467c2_row0_col2\" class=\"data row0 col2\" >CHH</td>\n",
       "      <td id=\"T_467c2_row0_col3\" class=\"data row0 col3\" >25.740365</td>\n",
       "      <td id=\"T_467c2_row0_col4\" class=\"data row0 col4\" >-100.398843</td>\n",
       "      <td id=\"T_467c2_row0_col5\" class=\"data row0 col5\" >6.538462</td>\n",
       "    </tr>\n",
       "    <tr>\n",
       "      <th id=\"T_467c2_level0_row1\" class=\"row_heading level0 row1\" >3</th>\n",
       "      <td id=\"T_467c2_row1_col0\" class=\"data row1 col0\" >bb09595bab7d5cfb</td>\n",
       "      <td id=\"T_467c2_row1_col1\" class=\"data row1 col1\" >HOT</td>\n",
       "      <td id=\"T_467c2_row1_col2\" class=\"data row1 col2\" >CUN</td>\n",
       "      <td id=\"T_467c2_row1_col3\" class=\"data row1 col3\" >21.120597</td>\n",
       "      <td id=\"T_467c2_row1_col4\" class=\"data row1 col4\" >-86.764775</td>\n",
       "      <td id=\"T_467c2_row1_col5\" class=\"data row1 col5\" >5.142857</td>\n",
       "    </tr>\n",
       "    <tr>\n",
       "      <th id=\"T_467c2_level0_row2\" class=\"row_heading level0 row2\" >0</th>\n",
       "      <td id=\"T_467c2_row2_col0\" class=\"data row2 col0\" >831658500aa7c846</td>\n",
       "      <td id=\"T_467c2_row2_col1\" class=\"data row2 col1\" >HOT</td>\n",
       "      <td id=\"T_467c2_row2_col2\" class=\"data row2 col2\" >VER</td>\n",
       "      <td id=\"T_467c2_row2_col3\" class=\"data row2 col3\" >19.100574</td>\n",
       "      <td id=\"T_467c2_row2_col4\" class=\"data row2 col4\" >-96.107823</td>\n",
       "      <td id=\"T_467c2_row2_col5\" class=\"data row2 col5\" >5.000000</td>\n",
       "    </tr>\n",
       "    <tr>\n",
       "      <th id=\"T_467c2_level0_row3\" class=\"row_heading level0 row3\" >4</th>\n",
       "      <td id=\"T_467c2_row3_col0\" class=\"data row3 col0\" >24b9b2a020826ede</td>\n",
       "      <td id=\"T_467c2_row3_col1\" class=\"data row3 col1\" >HOT & COLD</td>\n",
       "      <td id=\"T_467c2_row3_col2\" class=\"data row3 col2\" >GDL</td>\n",
       "      <td id=\"T_467c2_row3_col3\" class=\"data row3 col3\" >20.644773</td>\n",
       "      <td id=\"T_467c2_row3_col4\" class=\"data row3 col4\" >-103.412269</td>\n",
       "      <td id=\"T_467c2_row3_col5\" class=\"data row3 col5\" >4.896552</td>\n",
       "    </tr>\n",
       "    <tr>\n",
       "      <th id=\"T_467c2_level0_row4\" class=\"row_heading level0 row4\" >1</th>\n",
       "      <td id=\"T_467c2_row4_col0\" class=\"data row4 col0\" >db80363d35f10926</td>\n",
       "      <td id=\"T_467c2_row4_col1\" class=\"data row4 col1\" >HOT & COLD</td>\n",
       "      <td id=\"T_467c2_row4_col2\" class=\"data row4 col2\" >GDL</td>\n",
       "      <td id=\"T_467c2_row4_col3\" class=\"data row4 col3\" >20.644773</td>\n",
       "      <td id=\"T_467c2_row4_col4\" class=\"data row4 col4\" >-103.412269</td>\n",
       "      <td id=\"T_467c2_row4_col5\" class=\"data row4 col5\" >4.844828</td>\n",
       "    </tr>\n",
       "  </tbody>\n",
       "</table>\n"
      ],
      "text/plain": [
       "<pandas.io.formats.style.Styler at 0x26aed9d7be0>"
      ]
     },
     "execution_count": 3,
     "metadata": {},
     "output_type": "execute_result"
    }
   ],
   "source": [
    "import pandas as pd\n",
    "\n",
    "df=pd.read_csv('https://raw.githubusercontent.com/Cora1218/pandas/main/store_sales.csv')\n",
    "df1=pd.read_csv('https://raw.githubusercontent.com/Cora1218/pandas/main/date_info.csv')\n",
    "df2=pd.read_csv('https://raw.githubusercontent.com/Cora1218/pandas/main/store_info.csv')\n",
    "\n",
    "u=pd.merge(df, df1, how='inner', left_on='sales_datetime', right_on='calendar_date')\n",
    "u\n",
    "\n",
    "df3=(u[u.holiday_flg==1])\n",
    "a=df3.groupby(['id'])[['sales_count']].aggregate('mean')\n",
    "\n",
    "b=a.nlargest(5, ['sales_count']) \n",
    "\n",
    "c=pd.merge(df2,b,left_on='store_id', right_on='id')\n",
    "c.columns = ['Store_id','Store_type','Zone_name', 'Latitude', 'Longitude', 'Average']\n",
    "by_average = c.sort_values('Average', ascending=False)\n",
    "by_average.style.set_caption(\"*******  Five stores that have the highest average number of sales on holidays     *******\")\n"
   ]
  },
  {
   "cell_type": "code",
   "execution_count": 9,
   "id": "897815a3",
   "metadata": {},
   "outputs": [
    {
     "data": {
      "image/png": "[encoded data removed]",
      "text/plain": [
       "<Figure size 640x480 with 1 Axes>"
      ]
     },
     "metadata": {},
     "output_type": "display_data"
    }
   ],
   "source": [
    "import matplotlib.pyplot as plt\n",
    "store = c['Zone_name']\n",
    "average = c['Average']\n",
    "\n",
    "plt.pie(average, labels=store, autopct=\"%0.1f %%\")\n",
    "plt.axis(\"equal\")\n",
    "plt.show()\n",
    "\n"
   ]
  },
  {
   "cell_type": "code",
   "execution_count": null,
   "id": "1c2aaffa",
   "metadata": {},
   "outputs": [],
   "source": []
  },
  {
   "cell_type": "code",
   "execution_count": null,
   "id": "7c1cde10",
   "metadata": {},
   "outputs": [],
   "source": []
  },
  {
   "cell_type": "code",
   "execution_count": null,
   "id": "343a1f9d",
   "metadata": {},
   "outputs": [],
   "source": []
  }
 ],
 "metadata": {
  "kernelspec": {
   "display_name": "Python 3.10.7 64-bit",
   "language": "python",
   "name": "python3"
  },
  "language_info": {
   "codemirror_mode": {
    "name": "ipython",
    "version": 3
   },
   "file_extension": ".py",
   "mimetype": "text/x-python",
   "name": "python",
   "nbconvert_exporter": "python",
   "pygments_lexer": "ipython3",
   "version": "3.10.7"
  },
  "vscode": {
   "interpreter": {
    "hash": "fe741555743704c398ed12ee0b78216846aa8ffc54cf47cffef2704fd683c732"
   }
  }
 },
 "nbformat": 4,
 "nbformat_minor": 5
}
