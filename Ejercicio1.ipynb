{
 "cells": [
  {
   "cell_type": "code",
   "execution_count": null,
   "id": "1832c032",
   "metadata": {
    "scrolled": false
   },
   "outputs": [],
   "source": [
    "import pandas as pd\n",
    "\n",
    "df=pd.read_csv('https://raw.githubusercontent.com/Cora1218/pandas/main/store_sales.csv')\n",
    "df1=pd.read_csv('https://raw.githubusercontent.com/Cora1218/pandas/main/date_info.csv')\n",
    "df2=pd.read_csv('https://raw.githubusercontent.com/Cora1218/pandas/main/store_info.csv')\n",
    "\n",
    "u=pd.merge(df, df1, how='inner', left_on='sales_datetime', right_on='calendar_date')\n",
    "u\n",
    "\n",
    "df3=(u[u.holiday_flg==1])\n",
    "a=df3.groupby(['id'])[['sales_count']].aggregate('mean')\n",
    "\n",
    "b=a.nlargest(5, ['sales_count']) \n",
    "\n",
    "c=pd.merge(df2,b,left_on='store_id', right_on='id')\n",
    "c.columns = ['Store_id','Store_type','Zone_name', 'Latitude', 'Longitude', 'Average']\n",
    "by_average = c.sort_values('Average', ascending=False)\n",
    "by_average.style.set_caption(\"*******  Five stores that have the highest average number of sales on holidays     *******\")\n"
   ]
  },
  {
   "cell_type": "code",
   "execution_count": null,
   "id": "897815a3",
   "metadata": {},
   "outputs": [],
   "source": []
  },
  {
   "cell_type": "code",
   "execution_count": null,
   "id": "1c2aaffa",
   "metadata": {},
   "outputs": [],
   "source": []
  },
  {
   "cell_type": "code",
   "execution_count": null,
   "id": "7c1cde10",
   "metadata": {},
   "outputs": [],
   "source": []
  },
  {
   "cell_type": "code",
   "execution_count": null,
   "id": "343a1f9d",
   "metadata": {},
   "outputs": [],
   "source": []
  }
 ],
 "metadata": {
  "kernelspec": {
   "display_name": "Python 3 (ipykernel)",
   "language": "python",
   "name": "python3"
  },
  "language_info": {
   "codemirror_mode": {
    "name": "ipython",
    "version": 3
   },
   "file_extension": ".py",
   "mimetype": "text/x-python",
   "name": "python",
   "nbconvert_exporter": "python",
   "pygments_lexer": "ipython3",
   "version": "3.10.7"
  }
 },
 "nbformat": 4,
 "nbformat_minor": 5
}
