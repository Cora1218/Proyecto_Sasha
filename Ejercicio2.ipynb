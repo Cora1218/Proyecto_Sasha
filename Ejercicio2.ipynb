{
 "cells": [
  {
   "cell_type": "code",
   "execution_count": 19,
   "id": "d1114353",
   "metadata": {},
   "outputs": [
    {
     "name": "stdout",
     "output_type": "stream",
     "text": [
      "             sales_count\n",
      "day_of_week             \n",
      "Friday          3.861185\n",
      "Monday          4.414573\n",
      "Saturday        3.564507\n",
      "Sunday          3.438088\n",
      "Thursday        4.121003\n",
      "Tuesday         4.474811\n",
      "Wednesday       4.311302\n",
      "El día de la semana con más ventas es Martes con:  4.474811083123425\n"
     ]
    }
   ],
   "source": [
    "import pandas as pd\n",
    "\n",
    "df=pd.read_csv('https://raw.githubusercontent.com/Cora1218/pandas/main/store_sales.csv')\n",
    "df1=pd.read_csv('https://raw.githubusercontent.com/Cora1218/pandas/main/date_info.csv')\n",
    "df2=pd.read_csv('https://raw.githubusercontent.com/Cora1218/pandas/main/store_info.csv')\n",
    "\n",
    "df3 =pd.merge(pd.merge(df,df1,left_on='sales_datetime', right_on='calendar_date'),df2,left_on='id', right_on='store_id')\n",
    "df3\n",
    "df4 = df3.groupby('day_of_week')[['sales_count']].aggregate('mean')\n",
    "df4\n",
    "\n",
    "#df_day_of_week = df4.sort_values('sales_count', ascending=False).max() \n",
    "df_day_of_week=df4['sales_count'].max() \n",
    "\n",
    "\n",
    "print(df4)\n",
    "print(\"El día de la semana con más ventas es Martes con: \",df_day_of_week)\n",
    "#df_day_of_week.style.set_caption(\"*** Day with more sales ***\")\n",
    "         "
   ]
  },
  {
   "cell_type": "code",
   "execution_count": null,
   "id": "84dcce1f",
   "metadata": {
    "scrolled": true
   },
   "outputs": [],
   "source": []
  },
  {
   "cell_type": "code",
   "execution_count": null,
   "id": "010e5081",
   "metadata": {
    "scrolled": true
   },
   "outputs": [],
   "source": []
  }
 ],
 "metadata": {
  "kernelspec": {
   "display_name": "Python 3 (ipykernel)",
   "language": "python",
   "name": "python3"
  },
  "language_info": {
   "codemirror_mode": {
    "name": "ipython",
    "version": 3
   },
   "file_extension": ".py",
   "mimetype": "text/x-python",
   "name": "python",
   "nbconvert_exporter": "python",
   "pygments_lexer": "ipython3",
   "version": "3.10.7"
  }
 },
 "nbformat": 4,
 "nbformat_minor": 5
}
