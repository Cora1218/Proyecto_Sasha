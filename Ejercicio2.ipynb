{
 "cells": [
  {
   "cell_type": "code",
   "execution_count": 94,
   "id": "cab70619",
   "metadata": {},
   "outputs": [
    {
     "data": {
      "text/html": [
       "<style type=\"text/css\">\n",
       "</style>\n",
       "<table id=\"T_2ff6f\">\n",
       "  <caption>*** Day with more sales ***</caption>\n",
       "  <thead>\n",
       "    <tr>\n",
       "      <th class=\"blank level0\" >&nbsp;</th>\n",
       "      <th id=\"T_2ff6f_level0_col0\" class=\"col_heading level0 col0\" >sales_count</th>\n",
       "    </tr>\n",
       "    <tr>\n",
       "      <th class=\"index_name level0\" >day_of_week</th>\n",
       "      <th class=\"blank col0\" >&nbsp;</th>\n",
       "    </tr>\n",
       "  </thead>\n",
       "  <tbody>\n",
       "    <tr>\n",
       "      <th id=\"T_2ff6f_level0_row0\" class=\"row_heading level0 row0\" >Tuesday</th>\n",
       "      <td id=\"T_2ff6f_row0_col0\" class=\"data row0 col0\" >4.474811</td>\n",
       "    </tr>\n",
       "    <tr>\n",
       "      <th id=\"T_2ff6f_level0_row1\" class=\"row_heading level0 row1\" >Monday</th>\n",
       "      <td id=\"T_2ff6f_row1_col0\" class=\"data row1 col0\" >4.414573</td>\n",
       "    </tr>\n",
       "    <tr>\n",
       "      <th id=\"T_2ff6f_level0_row2\" class=\"row_heading level0 row2\" >Wednesday</th>\n",
       "      <td id=\"T_2ff6f_row2_col0\" class=\"data row2 col0\" >4.311302</td>\n",
       "    </tr>\n",
       "    <tr>\n",
       "      <th id=\"T_2ff6f_level0_row3\" class=\"row_heading level0 row3\" >Thursday</th>\n",
       "      <td id=\"T_2ff6f_row3_col0\" class=\"data row3 col0\" >4.121003</td>\n",
       "    </tr>\n",
       "    <tr>\n",
       "      <th id=\"T_2ff6f_level0_row4\" class=\"row_heading level0 row4\" >Friday</th>\n",
       "      <td id=\"T_2ff6f_row4_col0\" class=\"data row4 col0\" >3.861185</td>\n",
       "    </tr>\n",
       "    <tr>\n",
       "      <th id=\"T_2ff6f_level0_row5\" class=\"row_heading level0 row5\" >Saturday</th>\n",
       "      <td id=\"T_2ff6f_row5_col0\" class=\"data row5 col0\" >3.564507</td>\n",
       "    </tr>\n",
       "    <tr>\n",
       "      <th id=\"T_2ff6f_level0_row6\" class=\"row_heading level0 row6\" >Sunday</th>\n",
       "      <td id=\"T_2ff6f_row6_col0\" class=\"data row6 col0\" >3.438088</td>\n",
       "    </tr>\n",
       "  </tbody>\n",
       "</table>\n"
      ],
      "text/plain": [
       "<pandas.io.formats.style.Styler at 0x2465960c7f0>"
      ]
     },
     "execution_count": 94,
     "metadata": {},
     "output_type": "execute_result"
    }
   ],
   "source": [
    "import pandas as pd\n",
    "\n",
    "df=pd.read_csv('https://raw.githubusercontent.com/Cora1218/pandas/main/store_sales.csv')\n",
    "df1=pd.read_csv('https://raw.githubusercontent.com/Cora1218/pandas/main/date_info.csv')\n",
    "df2=pd.read_csv('https://raw.githubusercontent.com/Cora1218/pandas/main/store_info.csv')\n",
    "\n",
    "df3 =pd.merge(pd.merge(df,df1,left_on='sales_datetime', right_on='calendar_date'),df2,left_on='id', right_on='store_id')\n",
    "df3\n",
    "df4 = df3.groupby('day_of_week')[['sales_count']].aggregate('mean')\n",
    "df4\n",
    "\n",
    "df_day_of_week = df4.sort_values('sales_count', ascending=False) \n",
    "df_day_of_week\n",
    "df_day_of_week.style.set_caption(\"*** Day with more sales ***\")\n",
    "         "
   ]
  },
  {
   "cell_type": "code",
   "execution_count": null,
   "id": "786fe63e",
   "metadata": {
    "scrolled": true
   },
   "outputs": [],
   "source": []
  },
  {
   "cell_type": "code",
   "execution_count": null,
   "id": "73bfc6bd",
   "metadata": {
    "scrolled": true
   },
   "outputs": [],
   "source": []
  }
 ],
 "metadata": {
  "kernelspec": {
   "display_name": "Python 3 (ipykernel)",
   "language": "python",
   "name": "python3"
  },
  "language_info": {
   "codemirror_mode": {
    "name": "ipython",
    "version": 3
   },
   "file_extension": ".py",
   "mimetype": "text/x-python",
   "name": "python",
   "nbconvert_exporter": "python",
   "pygments_lexer": "ipython3",
   "version": "3.10.7"
  }
 },
 "nbformat": 4,
 "nbformat_minor": 5
}
