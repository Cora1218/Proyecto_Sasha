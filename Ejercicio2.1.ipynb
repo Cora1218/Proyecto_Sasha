{
 "cells": [
  {
   "cell_type": "code",
   "execution_count": 15,
   "metadata": {},
   "outputs": [
    {
     "name": "stdout",
     "output_type": "stream",
     "text": [
      "                 1970/01/01           1970/01/01           1970/01/01\n",
      "0       first_complete_time          first_order   last_complete_time\n",
      "1       2020-02-06 14:57:42  5764607726972721293  2020-02-06 14:57:42\n",
      "2       2019-11-20 17:09:10  5764607708429702360  2019-11-26 12:42:58\n",
      "3       2019-11-07 14:57:46  5764607687596594282  2019-11-07 14:57:46\n",
      "4       2020-01-02 14:04:11  5764607545208362686  2020-04-06 14:02:09\n",
      "...                     ...                  ...                  ...\n",
      "99996   2019-12-09 21:06:57  5764607522995328426  2020-04-05 18:34:27\n",
      "99997   2019-11-15 19:39:37  5764607734308558000  2020-01-22 19:50:02\n",
      "99998   2020-01-15 19:56:18  5764607755678537579  2020-01-15 19:56:18\n",
      "99999   2019-12-21 10:19:43  5764607633590736454  2019-12-21 10:19:43\n",
      "100000  2019-12-02 19:42:46  5764607772501890385  2020-03-11 21:35:44\n",
      "\n",
      "[100001 rows x 3 columns]\n"
     ]
    }
   ],
   "source": [
    "import pandas as pd\n",
    "import matplotlib.pyplot as plt\n",
    "import numpy as np\n",
    "\n",
    "df=pd.read_csv('https://raw.githubusercontent.com/Cora1218/pandas/main/File_user_info.txt', sep= \"\\t\", header=None)\n",
    "#df1=pd.read_table('https://raw.githubusercontent.com/Cora1218/pandas/main/File_order_info.txt', sep= '\\t', header=None)\n",
    "\n",
    "#print(df)\n",
    "#print(df.columns)\n",
    "#print(df.shape)\n",
    "\n",
    "#print(df.head(5))\n",
    "#print(df.index.name)\n",
    "\n",
    "dfd = df.iloc[:,1:4]\n",
    "#print(dfd.columns)\n",
    "\n",
    "dfd.columns=pd.to_datetime(dfd.columns).strftime(\"%Y/%m/%d\")\n",
    "#print(dfd.head(7))\n",
    "\n",
    "dfd=dfd.groupby(pd.PeriodIndex(dfd.columns, freq='M'), axis=1)\n",
    "print(dfd.head(7))\n"
   ]
  }
 ],
 "metadata": {
  "kernelspec": {
   "display_name": "Python 3.10.7 64-bit",
   "language": "python",
   "name": "python3"
  },
  "language_info": {
   "codemirror_mode": {
    "name": "ipython",
    "version": 3
   },
   "file_extension": ".py",
   "mimetype": "text/x-python",
   "name": "python",
   "nbconvert_exporter": "python",
   "pygments_lexer": "ipython3",
   "version": "3.10.7"
  },
  "orig_nbformat": 4,
  "vscode": {
   "interpreter": {
    "hash": "fe741555743704c398ed12ee0b78216846aa8ffc54cf47cffef2704fd683c732"
   }
  }
 },
 "nbformat": 4,
 "nbformat_minor": 2
}
